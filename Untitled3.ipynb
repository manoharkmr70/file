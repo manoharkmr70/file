{
 "cells": [
  {
   "cell_type": "code",
   "execution_count": 8,
   "id": "63ad1a02",
   "metadata": {},
   "outputs": [
    {
     "name": "stdout",
     "output_type": "stream",
     "text": [
      "var a 10\n",
      "var b 20\n",
      "var c 30\n"
     ]
    },
    {
     "data": {
      "text/plain": [
       "'(79+6j)mano'"
      ]
     },
     "execution_count": 8,
     "metadata": {},
     "output_type": "execute_result"
    }
   ],
   "source": [
    "a = int(input('var a '))\n",
    "b = int(input('var b '))\n",
    "c = int(input('var c '))\n",
    "o = (a+b)/c\n",
    "o1 = o+78+6j\n",
    "str(o1)+'mano'"
   ]
  },
  {
   "cell_type": "code",
   "execution_count": 9,
   "id": "654173cf",
   "metadata": {},
   "outputs": [
    {
     "data": {
      "text/plain": [
       "int"
      ]
     },
     "execution_count": 9,
     "metadata": {},
     "output_type": "execute_result"
    }
   ],
   "source": [
    "type(a)"
   ]
  },
  {
   "cell_type": "code",
   "execution_count": 16,
   "id": "bcd9c494",
   "metadata": {},
   "outputs": [],
   "source": [
    "a = 30\n",
    "b = 40\n",
    "c = a+b"
   ]
  },
  {
   "cell_type": "code",
   "execution_count": 19,
   "id": "9a3bd7ff",
   "metadata": {},
   "outputs": [
    {
     "data": {
      "text/plain": [
       "57"
      ]
     },
     "execution_count": 19,
     "metadata": {},
     "output_type": "execute_result"
    }
   ],
   "source": [
    "a+b"
   ]
  },
  {
   "cell_type": "code",
   "execution_count": 18,
   "id": "354afd35",
   "metadata": {},
   "outputs": [
    {
     "name": "stdout",
     "output_type": "stream",
     "text": [
      "var a 23\n",
      "var b 34\n",
      "var c 34\n"
     ]
    },
    {
     "data": {
      "text/plain": [
       "1.6764705882352942"
      ]
     },
     "execution_count": 18,
     "metadata": {},
     "output_type": "execute_result"
    }
   ],
   "source": [
    "a = int(input('var a '))\n",
    "b = int(input('var b '))\n",
    "c = int(input('var c '))\n",
    "(a+b)/c"
   ]
  },
  {
   "cell_type": "code",
   "execution_count": 23,
   "id": "249bc009",
   "metadata": {},
   "outputs": [
    {
     "name": "stdout",
     "output_type": "stream",
     "text": [
      "number 500500\n",
      "no number\n"
     ]
    }
   ],
   "source": [
    "a = int(input('number 500'))\n",
    "if a >600:\n",
    " print('low nuber')\n",
    "elif a <300:\n",
    " print ('high number')\n",
    "else:\n",
    " print ('no number')\n"
   ]
  },
  {
   "cell_type": "code",
   "execution_count": 24,
   "id": "8ada2b36",
   "metadata": {},
   "outputs": [],
   "source": [
    "a = 30\n",
    "b = 40\n",
    "c = a+b"
   ]
  },
  {
   "cell_type": "code",
   "execution_count": 26,
   "id": "56fd4bd9",
   "metadata": {},
   "outputs": [],
   "source": [
    "c = c+a"
   ]
  },
  {
   "cell_type": "code",
   "execution_count": 27,
   "id": "aec8e627",
   "metadata": {},
   "outputs": [
    {
     "data": {
      "text/plain": [
       "100"
      ]
     },
     "execution_count": 27,
     "metadata": {},
     "output_type": "execute_result"
    }
   ],
   "source": [
    "c"
   ]
  },
  {
   "cell_type": "code",
   "execution_count": 28,
   "id": "ffc6a3b9",
   "metadata": {},
   "outputs": [
    {
     "data": {
      "text/plain": [
       "54"
      ]
     },
     "execution_count": 28,
     "metadata": {},
     "output_type": "execute_result"
    }
   ],
   "source": [
    "11+3+3+4+3+2+3+2+19+4\n"
   ]
  },
  {
   "cell_type": "code",
   "execution_count": 31,
   "id": "bc9d6c86",
   "metadata": {},
   "outputs": [
    {
     "name": "stdout",
     "output_type": "stream",
     "text": [
      "sdfsdfs\n"
     ]
    }
   ],
   "source": [
    "if a >50:\n",
    "    pass\n",
    "elif a<55:\n",
    "    print ('sdfsdfs')\n",
    "else:\n",
    "    print('sdfsd')\n",
    "    "
   ]
  },
  {
   "cell_type": "code",
   "execution_count": 34,
   "id": "43eaaee7",
   "metadata": {},
   "outputs": [
    {
     "name": "stdout",
     "output_type": "stream",
     "text": [
      "number a val 50\n",
      "number b val 50\n",
      "number c val 100\n"
     ]
    },
    {
     "data": {
      "text/plain": [
       "'(101+56j)manohar'"
      ]
     },
     "execution_count": 34,
     "metadata": {},
     "output_type": "execute_result"
    }
   ],
   "source": [
    "a = int(input('number a val '))\n",
    "b = int(input('number b val '))\n",
    "c = int(input('number c val '))\n",
    "d = (a+b)/c\n",
    "e = d+100+56j\n",
    "str(e)+'manohar'\n"
   ]
  },
  {
   "cell_type": "code",
   "execution_count": 37,
   "id": "4c6aa373",
   "metadata": {},
   "outputs": [
    {
     "data": {
      "text/plain": [
       "(101+56j)"
      ]
     },
     "execution_count": 37,
     "metadata": {},
     "output_type": "execute_result"
    }
   ],
   "source": [
    "\n",
    "e"
   ]
  },
  {
   "cell_type": "code",
   "execution_count": 38,
   "id": "9fb42a0e",
   "metadata": {},
   "outputs": [
    {
     "name": "stdout",
     "output_type": "stream",
     "text": [
      "number is 92\n",
      "val is lessthen 100\n"
     ]
    }
   ],
   "source": [
    "a = int(input('number is '))\n",
    "if a <100:\n",
    "    print('val is lessthen 100')\n",
    "elif a >100:\n",
    "    print ('val is greater then 100')\n",
    "else:\n",
    "    print('val is equal')"
   ]
  },
  {
   "cell_type": "code",
   "execution_count": 40,
   "id": "6d652030",
   "metadata": {},
   "outputs": [
    {
     "name": "stdout",
     "output_type": "stream",
     "text": [
      "number is 234\n",
      "val is greater then 100\n"
     ]
    }
   ],
   "source": [
    "a = int(input('number is '))\n",
    "if a <100:\n",
    "    print('val is lessthen 100')\n",
    "    if True:\n",
    "        print ('no value')\n",
    "elif a >100:\n",
    "    print ('val is greater then 100')\n",
    "else:\n",
    "    print('val is equal')"
   ]
  },
  {
   "cell_type": "code",
   "execution_count": null,
   "id": "dab983c6",
   "metadata": {},
   "outputs": [],
   "source": []
  }
 ],
 "metadata": {
  "kernelspec": {
   "display_name": "Python 3 (ipykernel)",
   "language": "python",
   "name": "python3"
  },
  "language_info": {
   "codemirror_mode": {
    "name": "ipython",
    "version": 3
   },
   "file_extension": ".py",
   "mimetype": "text/x-python",
   "name": "python",
   "nbconvert_exporter": "python",
   "pygments_lexer": "ipython3",
   "version": "3.9.12"
  }
 },
 "nbformat": 4,
 "nbformat_minor": 5
}
